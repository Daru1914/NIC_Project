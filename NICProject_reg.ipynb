{
 "cells": [
  {
   "cell_type": "code",
   "execution_count": 68,
   "metadata": {},
   "outputs": [],
   "source": [
    "import pandas as pd\n",
    "from sklearn.model_selection import train_test_split\n",
    "from sklearn.preprocessing import OrdinalEncoder\n",
    "import numpy as np\n",
    "\n",
    "import warnings\n",
    "\n",
    "def fxn():\n",
    "    warnings.warn(\"deprecated\", DeprecationWarning)\n",
    "\n",
    "with warnings.catch_warnings():\n",
    "    warnings.simplefilter(\"ignore\")\n",
    "    fxn()\n",
    "\n",
    "\n",
    "df = pd.read_excel('final_dataset.xlsx', index_col=0)\n",
    "ord = OrdinalEncoder()\n",
    "df = df.drop('name', axis=1)\n",
    "df['code'] = ord.fit_transform(df[['code']])\n",
    "\n",
    "Y = df[['pop_growth']]\n",
    "X = df.drop('pop_growth', axis=1)\n",
    "\n",
    "\n",
    "X_train, X_test, y_train, y_test = train_test_split(X, Y, test_size = 0.2, random_state=42)"
   ]
  },
  {
   "cell_type": "code",
   "execution_count": 69,
   "metadata": {},
   "outputs": [
    {
     "name": "stdout",
     "output_type": "stream",
     "text": [
      "Fitting 15 folds for each of 20 candidates, totalling 300 fits\n",
      "{'max_trials': 7, 'min_samples': 1}\n",
      "0.29710013131382546\n",
      "0.29734631076158274\n"
     ]
    }
   ],
   "source": [
    "from sklearn.linear_model import RANSACRegressor, LinearRegression\n",
    "from sklearn.model_selection import RepeatedKFold\n",
    "from sklearn.model_selection import GridSearchCV\n",
    "from sklearn.metrics import mean_squared_error\n",
    "import pickle\n",
    "import math\n",
    "\n",
    "# Set RANSAC hyperparameters\n",
    "ransac = RANSACRegressor(LinearRegression(),\n",
    "\t\tmax_trials=4, \t\t# Number of Iterations\n",
    "\t\tmin_samples=2, \t\t# Minimum size of the sample\n",
    "\t\tloss='absolute_error', \t# Metrics for loss\n",
    "\t\tresidual_threshold=10 \t# Threshold\n",
    "\t\t)\n",
    "\n",
    "param_grid = {\n",
    "\t'max_trials': [4, 5, 6, 7],\n",
    "    'min_samples': [1, 2, 3, 4, 5]\n",
    "}\n",
    "\n",
    "cv = RepeatedKFold(n_splits=5, n_repeats=3, random_state=1)\n",
    "grid = GridSearchCV(ransac, param_grid, refit = True, verbose = 1,n_jobs=-1,cv=cv)\n",
    "grid.fit(X_train, y_train)\n",
    "print(grid.best_params_)\n",
    "pickle.dump(grid.best_estimator_, open('ransac_reg', 'wb'))\n",
    "y_pred = grid.predict(X_test)\n",
    "print(math.sqrt(mean_squared_error(y_test, y_pred)))\n",
    "\n",
    "\n",
    "lin = LinearRegression()\n",
    "lin.fit(X_train, y_train)\n",
    "y_pred = lin.predict(X_test)\n",
    "print(math.sqrt(mean_squared_error(y_test, y_pred)))\n",
    "pickle.dump(grid.best_estimator_, open('lin_reg', 'wb'))"
   ]
  },
  {
   "cell_type": "code",
   "execution_count": 70,
   "metadata": {},
   "outputs": [
    {
     "name": "stdout",
     "output_type": "stream",
     "text": [
      "0.29734631076158274  2\n",
      "0.29734631076158274  3\n"
     ]
    }
   ],
   "source": [
    "from sklearn.preprocessing import PolynomialFeatures\n",
    "\n",
    "for i in range(1, 3):\n",
    "    poly = PolynomialFeatures(degree= i + 1)\n",
    "    poly_features = poly.fit_transform(X)\n",
    "    X_train_PR, X_test_PR, y_train_PR, y_test_PR = train_test_split(poly_features, \n",
    "                                        Y, test_size = 0.2, random_state=42)\n",
    "    lin.fit(X_train_PR, y_train_PR)\n",
    "    y_pred_PR = lin.predict(X_test_PR)\n",
    "    pickle.dump(grid.best_estimator_, open('poly_' + str(i) + '_reg', 'wb'))\n",
    "    print(str(math.sqrt(mean_squared_error(y_test, y_pred))) + '  ' + str(i + 1))"
   ]
  },
  {
   "cell_type": "code",
   "execution_count": 71,
   "metadata": {},
   "outputs": [
    {
     "name": "stdout",
     "output_type": "stream",
     "text": [
      "Fitting 15 folds for each of 30 candidates, totalling 450 fits\n",
      "{'max_depth': 18, 'min_samples_split': 2}\n",
      "0.41371067627798636\n"
     ]
    }
   ],
   "source": [
    "from sklearn.tree import DecisionTreeRegressor\n",
    "from sklearn.model_selection import RepeatedStratifiedKFold\n",
    "\n",
    "\n",
    "param_grid = {\n",
    "    'max_depth': [i for i in range(10, 20)],\n",
    "    'min_samples_split': [2, 3, 4]\n",
    "}\n",
    "\n",
    "tree=DecisionTreeRegressor()\n",
    "grid = GridSearchCV(tree, param_grid, refit = True, verbose = 1,n_jobs=-1,cv=cv)\n",
    "grid.fit(X_train, y_train)\n",
    "print(grid.best_params_)\n",
    "pickle.dump(grid.best_estimator_, open('dec_tree_reg', 'wb'))\n",
    "y_pred = grid.predict(X_test)\n",
    "print(math.sqrt(mean_squared_error(y_test, y_pred)))"
   ]
  },
  {
   "cell_type": "code",
   "execution_count": 72,
   "metadata": {},
   "outputs": [
    {
     "name": "stdout",
     "output_type": "stream",
     "text": [
      "Fitting 15 folds for each of 60 candidates, totalling 900 fits\n",
      "{'max_depth': 12, 'min_samples_split': 2, 'n_estimators': 110}\n",
      "0.37959745917246424\n"
     ]
    }
   ],
   "source": [
    "from sklearn.ensemble import RandomForestRegressor\n",
    "from sklearn.model_selection import RepeatedStratifiedKFold\n",
    "\n",
    "\n",
    "param_grid = {\n",
    "    'n_estimators': [95, 100, 105, 110],\n",
    "    'min_samples_split': [2, 3, 4],\n",
    "    'max_depth': range(8, 13)\n",
    "}\n",
    "\n",
    "forest = RandomForestRegressor()\n",
    "grid = GridSearchCV(forest, param_grid, refit = True, verbose = 1,n_jobs=-1, cv=cv)\n",
    "grid.fit(X_train, np.ravel(y_train, order = 'C'))\n",
    "pickle.dump(grid.best_estimator_, open('rand_forest_reg', 'wb'))\n",
    "print(grid.best_params_)\n",
    "y_pred = grid.predict(X_test)\n",
    "print(math.sqrt(mean_squared_error(y_test, y_pred)))"
   ]
  },
  {
   "cell_type": "code",
   "execution_count": 73,
   "metadata": {},
   "outputs": [
    {
     "name": "stdout",
     "output_type": "stream",
     "text": [
      "Fitting 15 folds for each of 5 candidates, totalling 75 fits\n",
      "{'n_neighbors': 5}\n",
      "1.0228246770458636\n"
     ]
    }
   ],
   "source": [
    "from sklearn.neighbors import KNeighborsRegressor\n",
    "from sklearn.model_selection import RepeatedStratifiedKFold\n",
    "\n",
    "param_grid = {\n",
    "    'n_neighbors': [5, 10, 15, 20, 25]\n",
    "}\n",
    "\n",
    "model = KNeighborsRegressor()\n",
    "grid = GridSearchCV(model, param_grid, refit = True, verbose = 1,n_jobs=-1, cv=cv)\n",
    "grid.fit(X_train, np.ravel(y_train, order='C'))\n",
    "pickle.dump(grid.best_estimator_, open('knn_reg', 'wb'))\n",
    "print(grid.best_params_)\n",
    "y_pred = grid.predict(X_test)\n",
    "print(math.sqrt(mean_squared_error(y_test, y_pred)))"
   ]
  },
  {
   "cell_type": "code",
   "execution_count": 74,
   "metadata": {},
   "outputs": [
    {
     "name": "stdout",
     "output_type": "stream",
     "text": [
      "Fitting 15 folds for each of 18 candidates, totalling 270 fits\n",
      "{'C': 2.0, 'degree': 2, 'gamma': 'scale'}\n",
      "1.1704511959029027\n"
     ]
    }
   ],
   "source": [
    "##SVM\n",
    "from sklearn.svm import SVR\n",
    "from sklearn.model_selection import RepeatedStratifiedKFold\n",
    "\n",
    "\n",
    "param_grid = {\n",
    "    'degree': [2, 3, 4],\n",
    "    'gamma': ['scale', 'auto'],\n",
    "    'C': [0.5, 1.0, 2.0]\n",
    "}\n",
    "\n",
    "svmregressor = SVR()\n",
    "grid = GridSearchCV(svmregressor, param_grid, refit = True, verbose = 1,n_jobs=-1, cv=cv)\n",
    "grid.fit(X_train, np.ravel(y_train, order='C'))\n",
    "print(grid.best_params_)\n",
    "pickle.dump(grid.best_estimator_, open('svm_reg', 'wb'))\n",
    "y_pred = grid.predict(X_test)\n",
    "print(math.sqrt(mean_squared_error(y_test, y_pred)))\n"
   ]
  },
  {
   "cell_type": "code",
   "execution_count": 75,
   "metadata": {},
   "outputs": [
    {
     "name": "stdout",
     "output_type": "stream",
     "text": [
      "Fitting 15 folds for each of 36 candidates, totalling 540 fits\n"
     ]
    },
    {
     "name": "stderr",
     "output_type": "stream",
     "text": [
      "/media/majed/my_partition/venv/lib/python3.8/site-packages/sklearn/model_selection/_validation.py:378: FitFailedWarning: \n",
      "360 fits failed out of a total of 540.\n",
      "The score on these train-test partitions for these parameters will be set to nan.\n",
      "If these failures are not expected, you can try to debug them by setting error_score='raise'.\n",
      "\n",
      "Below are more details about the failures:\n",
      "--------------------------------------------------------------------------------\n",
      "180 fits failed with the following error:\n",
      "Traceback (most recent call last):\n",
      "  File \"/media/majed/my_partition/venv/lib/python3.8/site-packages/sklearn/model_selection/_validation.py\", line 686, in _fit_and_score\n",
      "    estimator.fit(X_train, y_train, **fit_params)\n",
      "  File \"/media/majed/my_partition/venv/lib/python3.8/site-packages/xgboost/core.py\", line 620, in inner_f\n",
      "    return func(**kwargs)\n",
      "  File \"/media/majed/my_partition/venv/lib/python3.8/site-packages/xgboost/sklearn.py\", line 1051, in fit\n",
      "    self._Booster = train(\n",
      "  File \"/media/majed/my_partition/venv/lib/python3.8/site-packages/xgboost/core.py\", line 620, in inner_f\n",
      "    return func(**kwargs)\n",
      "  File \"/media/majed/my_partition/venv/lib/python3.8/site-packages/xgboost/training.py\", line 185, in train\n",
      "    bst.update(dtrain, i, obj)\n",
      "  File \"/media/majed/my_partition/venv/lib/python3.8/site-packages/xgboost/core.py\", line 1918, in update\n",
      "    _check_call(_LIB.XGBoosterUpdateOneIter(self.handle,\n",
      "  File \"/media/majed/my_partition/venv/lib/python3.8/site-packages/xgboost/core.py\", line 279, in _check_call\n",
      "    raise XGBoostError(py_str(_LIB.XGBGetLastError()))\n",
      "xgboost.core.XGBoostError: value 2 for Parameter colsample_bylevel exceed bound [0,1]\n",
      "colsample_bylevel: Subsample ratio of columns, resample on each level.\n",
      "\n",
      "--------------------------------------------------------------------------------\n",
      "180 fits failed with the following error:\n",
      "Traceback (most recent call last):\n",
      "  File \"/media/majed/my_partition/venv/lib/python3.8/site-packages/sklearn/model_selection/_validation.py\", line 686, in _fit_and_score\n",
      "    estimator.fit(X_train, y_train, **fit_params)\n",
      "  File \"/media/majed/my_partition/venv/lib/python3.8/site-packages/xgboost/core.py\", line 620, in inner_f\n",
      "    return func(**kwargs)\n",
      "  File \"/media/majed/my_partition/venv/lib/python3.8/site-packages/xgboost/sklearn.py\", line 1051, in fit\n",
      "    self._Booster = train(\n",
      "  File \"/media/majed/my_partition/venv/lib/python3.8/site-packages/xgboost/core.py\", line 620, in inner_f\n",
      "    return func(**kwargs)\n",
      "  File \"/media/majed/my_partition/venv/lib/python3.8/site-packages/xgboost/training.py\", line 185, in train\n",
      "    bst.update(dtrain, i, obj)\n",
      "  File \"/media/majed/my_partition/venv/lib/python3.8/site-packages/xgboost/core.py\", line 1918, in update\n",
      "    _check_call(_LIB.XGBoosterUpdateOneIter(self.handle,\n",
      "  File \"/media/majed/my_partition/venv/lib/python3.8/site-packages/xgboost/core.py\", line 279, in _check_call\n",
      "    raise XGBoostError(py_str(_LIB.XGBGetLastError()))\n",
      "xgboost.core.XGBoostError: value 3 for Parameter colsample_bylevel exceed bound [0,1]\n",
      "colsample_bylevel: Subsample ratio of columns, resample on each level.\n",
      "\n",
      "  warnings.warn(some_fits_failed_message, FitFailedWarning)\n",
      "/media/majed/my_partition/venv/lib/python3.8/site-packages/sklearn/model_selection/_search.py:953: UserWarning: One or more of the test scores are non-finite: [0.94199051 0.9458174  0.94713718        nan        nan        nan\n",
      "        nan        nan        nan 0.94278516 0.94581256 0.94615498\n",
      "        nan        nan        nan        nan        nan        nan\n",
      " 0.94199824 0.94612222 0.94648008        nan        nan        nan\n",
      "        nan        nan        nan 0.94248119 0.94500966 0.94700072\n",
      "        nan        nan        nan        nan        nan        nan]\n",
      "  warnings.warn(\n"
     ]
    },
    {
     "name": "stdout",
     "output_type": "stream",
     "text": [
      "{'base_score': 0.5, 'colsample_bylevel': 1, 'max_depth': 5}\n",
      "0.23416913139135476\n"
     ]
    }
   ],
   "source": [
    "from xgboost import XGBRegressor\n",
    "from sklearn.model_selection import RepeatedStratifiedKFold\n",
    "from sklearn.model_selection import cross_val_score\n",
    "import numpy as np\n",
    "\n",
    "model = XGBRegressor(n_estimators=1000, max_depth=10, eta=0.1, subsample=0.7,\n",
    "                         colsample_bytree=0.8)\n",
    "\n",
    "param_grid = {\n",
    "    'base_score': [0.5, 1, 1.5, 2], \n",
    "    'max_depth': [3, 4, 5],\n",
    "    'colsample_bylevel': [1, 2, 3]\n",
    "}\n",
    "\n",
    "grid = GridSearchCV(model, param_grid, refit = True, verbose = 1,n_jobs=-1, cv=cv)\n",
    "grid.fit(X_train, np.ravel(y_train, order='C'))\n",
    "pickle.dump(grid.best_estimator_, open('xgb_reg', 'wb'))\n",
    "print(grid.best_params_)\n",
    "y_pred = grid.predict(X_test)\n",
    "print(math.sqrt(mean_squared_error(y_test, y_pred)))"
   ]
  },
  {
   "cell_type": "code",
   "execution_count": null,
   "metadata": {},
   "outputs": [],
   "source": []
  }
 ],
 "metadata": {
  "kernelspec": {
   "display_name": "Python 3.11.0 64-bit",
   "language": "python",
   "name": "python3"
  },
  "language_info": {
   "codemirror_mode": {
    "name": "ipython",
    "version": 3
   },
   "file_extension": ".py",
   "mimetype": "text/x-python",
   "name": "python",
   "nbconvert_exporter": "python",
   "pygments_lexer": "ipython3",
   "version": "3.11.0"
  },
  "orig_nbformat": 4,
  "vscode": {
   "interpreter": {
    "hash": "de47f5c92c0ee6f12a59a5613ac5feff6aab19ddff207ba0b3964cced08c4ccc"
   }
  }
 },
 "nbformat": 4,
 "nbformat_minor": 2
}
