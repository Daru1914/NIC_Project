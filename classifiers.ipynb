{
 "cells": [
  {
   "cell_type": "markdown",
   "metadata": {},
   "source": [
    "# Overview\n",
    "This notebook is used to create tools to automate the training, tuning and saving of different sklearn models\n"
   ]
  },
  {
   "cell_type": "markdown",
   "metadata": {},
   "source": [
    "# Preliminary: Imports and constants"
   ]
  },
  {
   "cell_type": "code",
   "execution_count": 11,
   "metadata": {},
   "outputs": [],
   "source": [
    "# import packages\n",
    "import pandas as pd\n",
    "import numpy as np\n",
    "from sklearn.datasets import make_classification\n",
    "import numpy as np\n",
    "import pickle\n",
    "from sklearn.model_selection import train_test_split"
   ]
  },
  {
   "cell_type": "code",
   "execution_count": 12,
   "metadata": {},
   "outputs": [],
   "source": [
    "# import models\n",
    "from sklearn.linear_model import LogisticRegression\n",
    "from sklearn.neighbors import KNeighborsRegressor\n",
    "\n",
    "# import tuning modules\n",
    "from sklearn.model_selection import StratifiedKFold, GridSearchCV\n",
    "\n",
    "# import metrics and scoring modules\n",
    "from sklearn.metrics import accuracy_score, precision_score, f1_score, recall_score, balanced_accuracy_score\n",
    "\n",
    "import math \n",
    "import pickle"
   ]
  },
  {
   "cell_type": "code",
   "execution_count": 13,
   "metadata": {},
   "outputs": [],
   "source": [
    "from sklearn.metrics import get_scorer_names\n",
    "score_function = {\"accuray\": accuracy_score, \"precision\": precision_score, \"recall\": recall_score, \n",
    "                  \"f1\": f1_score, \"balanced_accuracy\": balanced_accuracy_score}\n",
    "\n",
    "# constant used for cross validation\n",
    "CV = StratifiedKFold(n_splits=5, shuffle=True, random_state=11)\n",
    "# get_scorer_names()"
   ]
  },
  {
   "cell_type": "markdown",
   "metadata": {},
   "source": [
    "# Systemizing ML processes\n",
    "In this block we split the most common functionalities used in Machine learning in function block for re-usibility. "
   ]
  },
  {
   "cell_type": "code",
   "execution_count": 14,
   "metadata": {},
   "outputs": [],
   "source": [
    "X, Y = make_classification(n_samples=4000, n_features=20, n_classes=3, random_state = 18, n_informative=8)\n",
    "# X_train, X_test, y_train, y_test = train_test_split(X, Y, test_size = 0.2, random_state=42)"
   ]
  },
  {
   "cell_type": "code",
   "execution_count": 15,
   "metadata": {},
   "outputs": [],
   "source": [
    "def tune_model(model, params_grid, X_train, y_train, cv = None, scoring=None):\n",
    "    # scoring should be determined depending on the nature of the classification problem\n",
    "    if scoring is None:\n",
    "        # if the classification problem is binary\n",
    "        if len(np.unique(y_train)) == 2:\n",
    "            scoring='f1'\n",
    "        else:\n",
    "            scoring='balanced_accuracy'\n",
    "        \n",
    "    if cv is None:\n",
    "        cv = CV\n",
    "        \n",
    "    searcher = GridSearchCV(model, param_grid=params_grid, cv=cv, scoring=scoring, n_jobs=-1)\n",
    "    searcher.fit(X_train, y_train)\n",
    "    return searcher.best_estimator_\n"
   ]
  },
  {
   "cell_type": "code",
   "execution_count": 16,
   "metadata": {},
   "outputs": [],
   "source": [
    "def evaluate_tuned_model(tuned_model, X_train, X_test, y_train, y_test, train=True, metrics=['accuracy']):\n",
    "\n",
    "    if isinstance(metrics, str):\n",
    "        metrics = [metrics]\n",
    "        \n",
    "    # train the model\n",
    "    if train:\n",
    "        tuned_model.fit(X_train, y_train)\n",
    "        \n",
    "    # predict on the test dataset\n",
    "    y_pred = tuned_model.predict(X_test)\n",
    "    # evluate the model\n",
    "    scores = dict(list(zip(metrics, [score_function[m](y_test, y_pred) for m in metrics])))    \n",
    "    return tuned_model, scores\n"
   ]
  },
  {
   "cell_type": "code",
   "execution_count": 17,
   "metadata": {},
   "outputs": [],
   "source": [
    "def save_model(tuned_model, path):\n",
    "    with open(path, 'wb') as f:\n",
    "        pickle.dump(tuned_model, f)\n",
    "\n",
    "def load_model(path):\n",
    "    with open(path, 'rb') as f:\n",
    "        return pickle.load(f)\n"
   ]
  },
  {
   "cell_type": "code",
   "execution_count": 18,
   "metadata": {},
   "outputs": [],
   "source": [
    "  \n",
    "def try_model(model, X, y, params_grid, save=True, save_path=None, test_size=0.2, tune_metric=None, test_metrics=['accuracy'], cv=None):\n",
    "    # the dataset passed is assumed to be ready to be processed\n",
    "    # all its features are numerical and all its missing values are imputed/discarded\n",
    "    \n",
    "    if save and save_path is None:\n",
    "        raise ValueError(\"Please pass a path to save the model or set the 'save' parameter to False\")\n",
    "    \n",
    "    # split the dataset into train and test datasets\n",
    "    X_train, X_test, y_train, y_test = train_test_split(X, y, test_size=test_size,random_state=11, stratify=y)\n",
    "    \n",
    "    # tune the model\n",
    "    tuned_model = tune_model(model, params_grid, X_train, y_train, cv=cv, scoring =tune_metric)\n",
    "    \n",
    "    # evluate teh tuned model\n",
    "    model, results = evaluate_tuned_model(tuned_model, X_train, y_train, X_test, y_test, test_metrics)    \n",
    "    # save the model to the passed path\n",
    "    if save:\n",
    "        save_model(tuned_model, save_path)\n",
    "     \n",
    "    return model, results\n"
   ]
  },
  {
   "cell_type": "markdown",
   "metadata": {},
   "source": [
    "# Common Machine Learning models\n",
    "In this subsection, we customize the ML processes considered above for the most common Machine Learning models:\n",
    "* Logistic Regression\n",
    "* Linear SVM\n",
    "* DecisionTreeClassifier\n",
    "* RandomForestClassifier\n",
    "* XGBoostClassifier"
   ]
  },
  {
   "cell_type": "markdown",
   "metadata": {},
   "source": [
    "## Logistic Regression"
   ]
  },
  {
   "cell_type": "code",
   "execution_count": null,
   "metadata": {},
   "outputs": [],
   "source": [
    "lr_basic = LogisticRegression(max_iter=5000)\n",
    "\n",
    "LR_grid = {\"C\": [0.1]}\n",
    "\n",
    "def try_LR(X, y, lr_model=lr_basic, params_grid=LR_grid, save=True, save_path=None, test_size=0.2, tune_metric=None, test_metrics=['accuracy'], cv=None):\n",
    "    return try_model(lr_model, X, y, params_grid, save=save, save_path=save_path, test_size=test_size, tune_metric=tune_metric, test_metrics=test_metrics, cv=cv)\n",
    "    \n",
    "lr, results = try_LR(X, Y, save=False)"
   ]
  },
  {
   "cell_type": "code",
   "execution_count": null,
   "metadata": {},
   "outputs": [],
   "source": [
    "\n",
    "\n",
    "param_grid = {\n",
    "    'C': [0.5, 1.0, 1.5]\n",
    "}\n",
    "\n",
    "Log_clf = LogisticRegression()\n",
    "cv = RepeatedStratifiedKFold(n_splits=5, n_repeats=3, random_state=1)\n",
    "grid = GridSearchCV(Log_clf, param_grid, refit = True, verbose = 1,n_jobs=-1, cv=cv)\n",
    "grid.fit(X_train, np.ravel(y_train, order='C'))\n",
    "print(grid.best_params_)\n",
    "y_pred = grid.predict(X_test)\n",
    "pickle.dump(grid.best_estimator_, open('log_reg_clf', 'wb'))\n",
    "print(accuracy_score(y_test, y_pred))"
   ]
  },
  {
   "cell_type": "code",
   "execution_count": 12,
   "metadata": {},
   "outputs": [
    {
     "name": "stdout",
     "output_type": "stream",
     "text": [
      "Fitting 15 folds for each of 30 candidates, totalling 450 fits\n",
      "{'max_depth': 10, 'min_samples_split': 4}\n",
      "0.855\n"
     ]
    }
   ],
   "source": [
    "import math\n",
    "from sklearn.tree import DecisionTreeClassifier\n",
    "from sklearn.metrics import accuracy_score\n",
    "\n",
    "\n",
    "param_grid = {\n",
    "    'max_depth': range(10, 20),\n",
    "    'min_samples_split': [2, 3, 4]\n",
    "}\n",
    "\n",
    "tree=DecisionTreeClassifier()\n",
    "grid = GridSearchCV(tree, param_grid, refit = True, verbose = 1,n_jobs=-1, cv=cv)\n",
    "grid.fit(X_train, np.ravel(y_train, order='C'))\n",
    "print(grid.best_params_)\n",
    "y_pred = grid.predict(X_test)\n",
    "pickle.dump(grid.best_estimator_, open('dec_tree_clf', 'wb'))\n",
    "print(accuracy_score(y_test, y_pred))"
   ]
  },
  {
   "cell_type": "code",
   "execution_count": 13,
   "metadata": {},
   "outputs": [
    {
     "name": "stdout",
     "output_type": "stream",
     "text": [
      "Fitting 15 folds for each of 60 candidates, totalling 900 fits\n",
      "{'max_depth': 10, 'min_samples_split': 3, 'n_estimators': 100}\n",
      "0.93\n"
     ]
    }
   ],
   "source": [
    "from sklearn.ensemble import RandomForestClassifier\n",
    "\n",
    "param_grid = {\n",
    "    'max_depth': range(8, 13),\n",
    "    'min_samples_split': [2, 3, 4],\n",
    "    'n_estimators': range(95, 111, 5)\n",
    "}\n",
    "\n",
    "\n",
    "forest=RandomForestClassifier()\n",
    "grid = GridSearchCV(forest, param_grid, refit = True, verbose = 1,n_jobs=-1, cv=cv)\n",
    "grid.fit(X_train, np.ravel(y_train, order='C'))\n",
    "print(grid.best_params_)\n",
    "y_pred = grid.predict(X_test)\n",
    "pickle.dump(grid.best_estimator_, open('rand_forest_clf', 'wb'))\n",
    "print(accuracy_score(y_test, y_pred))"
   ]
  },
  {
   "cell_type": "code",
   "execution_count": 14,
   "metadata": {},
   "outputs": [
    {
     "name": "stdout",
     "output_type": "stream",
     "text": [
      "Fitting 15 folds for each of 10 candidates, totalling 150 fits\n",
      "{'n_neighbors': 5}\n",
      "0.96\n"
     ]
    }
   ],
   "source": [
    "from sklearn.neighbors import KNeighborsClassifier\n",
    "\n",
    "param_grid = {\n",
    "    'n_neighbors': range(5, 15)\n",
    "}\n",
    "\n",
    "model = KNeighborsClassifier()\n",
    "grid = GridSearchCV(model, param_grid, refit = True, verbose = 1,n_jobs=-1, cv=cv)\n",
    "grid.fit(X_train, np.ravel(y_train, order='C'))\n",
    "print(grid.best_params_)\n",
    "pickle.dump(grid.best_estimator_, open('knn_clf', 'wb'))\n",
    "y_pred = grid.predict(X_test)\n",
    "print(accuracy_score(y_test, y_pred))"
   ]
  },
  {
   "cell_type": "code",
   "execution_count": 15,
   "metadata": {},
   "outputs": [
    {
     "name": "stdout",
     "output_type": "stream",
     "text": [
      "Fitting 15 folds for each of 18 candidates, totalling 270 fits\n",
      "{'C': 2.0, 'degree': 2, 'gamma': 'scale'}\n",
      "0.975\n"
     ]
    }
   ],
   "source": [
    "##SVM\n",
    "from sklearn.svm import SVC\n",
    "\n",
    "\n",
    "param_grid = {\n",
    "    'degree': [2, 3, 4],\n",
    "    'gamma': ['scale', 'auto'],\n",
    "    'C': [0.5, 1.0, 2.0]\n",
    "}\n",
    "\n",
    "svmclassifier = SVC(kernel = 'rbf', random_state = 0)\n",
    "grid = GridSearchCV(svmclassifier, param_grid, refit = True, verbose = 1,n_jobs=-1, cv=cv)\n",
    "grid.fit(X_train, np.ravel(y_train, order='C'))\n",
    "print(grid.best_params_)\n",
    "pickle.dump(grid.best_estimator_, open('svm_clf', 'wb'))\n",
    "y_pred = grid.predict(X_test)\n",
    "print(accuracy_score(y_test, y_pred))"
   ]
  },
  {
   "cell_type": "code",
   "execution_count": 16,
   "metadata": {},
   "outputs": [
    {
     "name": "stdout",
     "output_type": "stream",
     "text": [
      "Fitting 15 folds for each of 36 candidates, totalling 540 fits\n"
     ]
    },
    {
     "name": "stderr",
     "output_type": "stream",
     "text": [
      "/media/majed/my_partition/venv/lib/python3.8/site-packages/sklearn/model_selection/_validation.py:378: FitFailedWarning: \n",
      "360 fits failed out of a total of 540.\n",
      "The score on these train-test partitions for these parameters will be set to nan.\n",
      "If these failures are not expected, you can try to debug them by setting error_score='raise'.\n",
      "\n",
      "Below are more details about the failures:\n",
      "--------------------------------------------------------------------------------\n",
      "180 fits failed with the following error:\n",
      "Traceback (most recent call last):\n",
      "  File \"/media/majed/my_partition/venv/lib/python3.8/site-packages/sklearn/model_selection/_validation.py\", line 686, in _fit_and_score\n",
      "    estimator.fit(X_train, y_train, **fit_params)\n",
      "  File \"/media/majed/my_partition/venv/lib/python3.8/site-packages/xgboost/core.py\", line 620, in inner_f\n",
      "    return func(**kwargs)\n",
      "  File \"/media/majed/my_partition/venv/lib/python3.8/site-packages/xgboost/sklearn.py\", line 1516, in fit\n",
      "    self._Booster = train(\n",
      "  File \"/media/majed/my_partition/venv/lib/python3.8/site-packages/xgboost/core.py\", line 620, in inner_f\n",
      "    return func(**kwargs)\n",
      "  File \"/media/majed/my_partition/venv/lib/python3.8/site-packages/xgboost/training.py\", line 185, in train\n",
      "    bst.update(dtrain, i, obj)\n",
      "  File \"/media/majed/my_partition/venv/lib/python3.8/site-packages/xgboost/core.py\", line 1918, in update\n",
      "    _check_call(_LIB.XGBoosterUpdateOneIter(self.handle,\n",
      "  File \"/media/majed/my_partition/venv/lib/python3.8/site-packages/xgboost/core.py\", line 279, in _check_call\n",
      "    raise XGBoostError(py_str(_LIB.XGBGetLastError()))\n",
      "xgboost.core.XGBoostError: value 2 for Parameter colsample_bylevel exceed bound [0,1]\n",
      "colsample_bylevel: Subsample ratio of columns, resample on each level.\n",
      "\n",
      "--------------------------------------------------------------------------------\n",
      "180 fits failed with the following error:\n",
      "Traceback (most recent call last):\n",
      "  File \"/media/majed/my_partition/venv/lib/python3.8/site-packages/sklearn/model_selection/_validation.py\", line 686, in _fit_and_score\n",
      "    estimator.fit(X_train, y_train, **fit_params)\n",
      "  File \"/media/majed/my_partition/venv/lib/python3.8/site-packages/xgboost/core.py\", line 620, in inner_f\n",
      "    return func(**kwargs)\n",
      "  File \"/media/majed/my_partition/venv/lib/python3.8/site-packages/xgboost/sklearn.py\", line 1516, in fit\n",
      "    self._Booster = train(\n",
      "  File \"/media/majed/my_partition/venv/lib/python3.8/site-packages/xgboost/core.py\", line 620, in inner_f\n",
      "    return func(**kwargs)\n",
      "  File \"/media/majed/my_partition/venv/lib/python3.8/site-packages/xgboost/training.py\", line 185, in train\n",
      "    bst.update(dtrain, i, obj)\n",
      "  File \"/media/majed/my_partition/venv/lib/python3.8/site-packages/xgboost/core.py\", line 1918, in update\n",
      "    _check_call(_LIB.XGBoosterUpdateOneIter(self.handle,\n",
      "  File \"/media/majed/my_partition/venv/lib/python3.8/site-packages/xgboost/core.py\", line 279, in _check_call\n",
      "    raise XGBoostError(py_str(_LIB.XGBGetLastError()))\n",
      "xgboost.core.XGBoostError: value 3 for Parameter colsample_bylevel exceed bound [0,1]\n",
      "colsample_bylevel: Subsample ratio of columns, resample on each level.\n",
      "\n",
      "  warnings.warn(some_fits_failed_message, FitFailedWarning)\n",
      "/media/majed/my_partition/venv/lib/python3.8/site-packages/sklearn/model_selection/_search.py:953: UserWarning: One or more of the test scores are non-finite: [0.94041667 0.94125    0.94416667        nan        nan        nan\n",
      "        nan        nan        nan 0.94041667 0.94166667 0.94416667\n",
      "        nan        nan        nan        nan        nan        nan\n",
      " 0.94041667 0.94166667 0.94416667        nan        nan        nan\n",
      "        nan        nan        nan 0.94041667 0.94166667 0.94416667\n",
      "        nan        nan        nan        nan        nan        nan]\n",
      "  warnings.warn(\n"
     ]
    },
    {
     "name": "stdout",
     "output_type": "stream",
     "text": [
      "{'base_score': 0.5, 'colsample_bylevel': 1, 'max_depth': 5}\n",
      "0.94\n"
     ]
    }
   ],
   "source": [
    "from xgboost import XGBClassifier\n",
    "from sklearn.model_selection import RepeatedKFold\n",
    "from sklearn.model_selection import cross_val_score\n",
    "import numpy as np\n",
    "\n",
    "model = XGBClassifier(n_estimators=1000, max_depth=7, eta=0.1, subsample=0.7, colsample_bytree=0.8)\n",
    "\n",
    "param_grid = {\n",
    "    'base_score': [0.5, 1, 1.5, 2], \n",
    "    'max_depth': [3, 4, 5],\n",
    "    'colsample_bylevel': [1, 2, 3]\n",
    "}\n",
    "\n",
    "grid = GridSearchCV(model, param_grid, refit = True, verbose = 1,n_jobs=-1, cv=cv)\n",
    "grid.fit(X_train, np.ravel(y_train, order='C'))\n",
    "print(grid.best_params_)\n",
    "pickle.dump(grid.best_estimator_, open('xgb_clf', 'wb'))\n",
    "y_pred = grid.predict(X_test)\n",
    "print(accuracy_score(y_test, y_pred))"
   ]
  },
  {
   "cell_type": "code",
   "execution_count": null,
   "metadata": {},
   "outputs": [],
   "source": []
  }
 ],
 "metadata": {
  "kernelspec": {
   "display_name": "Python 3.11.0 64-bit",
   "language": "python",
   "name": "python3"
  },
  "language_info": {
   "codemirror_mode": {
    "name": "ipython",
    "version": 3
   },
   "file_extension": ".py",
   "mimetype": "text/x-python",
   "name": "python",
   "nbconvert_exporter": "python",
   "pygments_lexer": "ipython3",
   "version": "3.11.0"
  },
  "orig_nbformat": 4,
  "vscode": {
   "interpreter": {
    "hash": "de47f5c92c0ee6f12a59a5613ac5feff6aab19ddff207ba0b3964cced08c4ccc"
   }
  }
 },
 "nbformat": 4,
 "nbformat_minor": 2
}
